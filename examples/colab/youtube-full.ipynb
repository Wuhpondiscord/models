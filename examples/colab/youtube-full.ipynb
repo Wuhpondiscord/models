{
 "cells": [
  {
   "cell_type": "markdown",
   "metadata": {},
   "source": [
    "# YOLO Inference on YouTube Video (Full Example)\n",
    "\n",
    "This notebook provides a complete example of performing object detection on a YouTube video using a trained YOLO model."
  ]
  },
  {
   "cell_type": "code",
   "execution_count": null,
   "metadata": {},
   "outputs": [],
   "source": [
    "# Install necessary packages\n",
    "!pip install torch torchvision torchaudio --extra-index-url https://download.pytorch.org/whl/cpu\n",
    "!pip install matplotlib pillow pytube opencv-python"
  ]
  },
  {
   "cell_type": "code",
   "execution_count": null,
   "metadata": {},
   "outputs": [],
   "source": [
    "import torch\n",
    "from PIL import Image\n",
    "import requests\n",
    "from io import BytesIO\n",
    "from pytube import YouTube\n",
    "import cv2\n",
    "import os"
  ]
  },
  {
   "cell_type": "markdown",
   "metadata": {},
   "source": [
    "## Select YOLO Architecture"
  ]
  },
  {
   "cell_type": "code",
   "execution_count": null,
   "metadata": {},
   "outputs": [],
   "source": [
    "# User Input for Architecture Selection\n",
    "print(\"Select YOLO architecture:\")\n",
    "print(\"1: YOLOv8\")\n",
    "print(\"2: YOLOv9\")\n",
    "print(\"3: YOLOv11\")\n",
    "print(\"4: YOLO-World\")\n",
    "\n",
    "architecture_choice = input(\"Enter the number corresponding to your architecture: \")\n",
    "\n",
    "# Map user input to architecture\n",
    "if architecture_choice == \"1\":\n",
    "    architecture = \"ultralytics/yolov8\"\n",
    "elif architecture_choice == \"2\":\n",
    "    architecture = \"ultralytics/yolov9\"\n",
    "elif architecture_choice == \"3\":\n",
    "    architecture = \"ultralytics/yolo11\"\n",
    "elif architecture_choice == \"4\":\n",
    "    architecture = \"ultralytics/yolo-world\"\n",
    "else:\n",
    "    raise ValueError(\"Invalid architecture choice. Please select a number between 1 and 4.\")"
  ]
  },
  {
   "cell_type": "markdown",
   "metadata": {},
   "source": [
    "## Load the YOLO Model"
  ]
  },
  {
   "cell_type": "code",
   "execution_count": null,
   "metadata": {},
   "outputs": [],
   "source": [
    "# Replace the placeholder with the actual model URL\n",
    "MODEL_URL = \"{{MODEL_URL}}\"\n",
    "\n",
    "# Load the model\n",
    "model = torch.hub.load(architecture, 'custom', path_or_model=MODEL_URL)\n",
    "model.eval()"
  ]
  },
  {
   "cell_type": "markdown",
   "metadata": {},
   "source": [
    "## Function to Download YouTube Video"
  ]
  },
  {
   "cell_type": "code",
   "execution_count": null,
   "metadata": {},
   "outputs": [],
   "source": [
    "# Function to download YouTube video\n",
    "def download_youtube_video(video_url, output_path='youtube_video.mp4'):\n",
    "    yt = YouTube(video_url)\n",
    "    stream = yt.streams.filter(file_extension='mp4', res='720p').first()\n",
    "    if not stream:\n",
    "        raise ValueError(\"No suitable stream found. Please ensure the video has a 720p MP4 stream.\")\n",
    "    video_path = stream.download(output_path='.', filename=output_path)\n",
    "    return video_path"
  ]
  },
  {
   "cell_type": "markdown",
   "metadata": {},
   "source": [
    "## Perform Detection on YouTube Video"
  ]
  },
  {
   "cell_type": "code",
   "execution_count": null,
   "metadata": {},
   "outputs": [],
   "source": [
    "# Input YouTube video URL\n",
    "video_url = input(\"Enter YouTube video URL: \")\n",
    "\n",
    "# Download video\n",
    "print(\"Downloading video...\")\n",
    "video_path = download_youtube_video(video_url)\n",
    "print(f\"Video downloaded to {video_path}\")\n",
    "\n",
    "# Open video for detection\n",
    "cap = cv2.VideoCapture(video_path)\n",
    "\n",
    "# Create output directory\n",
    "output_dir = \"youtube_output\"\n",
    "os.makedirs(output_dir, exist_ok=True)\n",
    "\n",
    "frame_count = 0\n",
    "\n",
    "print(\"Starting detection... Press 'q' to quit.\")"
  ]
  },
  {
   "cell_type": "code",
   "execution_count": null,
   "metadata": {},
   "outputs": [],
   "source": [
    "while cap.isOpened():\n",
    "    ret, frame = cap.read()\n",
    "    if not ret:\n",
    "        break\n",
    "\n",
    "    # Convert frame to PIL Image\n",
    "    img = Image.fromarray(cv2.cvtColor(frame, cv2.COLOR_BGR2RGB))\n",
    "\n",
    "    # Perform inference\n",
    "    results = model(img)\n",
    "\n",
    "    # Render results on the frame\n",
    "    results.render()\n",
    "    detected_frame = results.imgs[0]\n",
    "    detected_frame = cv2.cvtColor(detected_frame, cv2.COLOR_RGB2BGR)\n",
    "\n",
    "    # Display the frame\n",
    "    cv2.imshow('YOLO YouTube Detection', detected_frame)\n",
    "\n",
    "    # Save the frame to output directory\n",
    "    output_path = os.path.join(output_dir, f\"frame_{frame_count:05d}.jpg\")\n",
    "    cv2.imwrite(output_path, detected_frame)\n",
    "    frame_count += 1\n",
    "\n",
    "    if cv2.waitKey(1) & 0xFF == ord('q'):\n",
    "        break\n",
    "\n",
    "cap.release()\n",
    "cv2.destroyAllWindows()\n",
    "\n",
    "print(f\"Detection completed. Processed {frame_count} frames. Results saved in '{output_dir}' directory.\")"
  ]
  },
  {
   "cell_type": "markdown",
   "metadata": {},
   "source": [
    "## Visualize Results"
  ]
  },
  {
   "cell_type": "code",
   "execution_count": null,
   "metadata": {},
   "outputs": [],
   "source": [
    "# The visualization is handled within the detection loop above.\n",
    "# Detected frames are displayed in a window titled 'YOLO YouTube Detection' and saved in the 'youtube_output' directory."
  ]
  }
 ],
 "metadata": {
  "kernelspec": {
   "display_name": "Python 3",
   "language": "python",
   "name": "python3"
  },
  "language_info": {
   "codemirror_mode": {
    "name": "ipython",
    "version": 3
   },
   "file_extension": ".py",
   "mimetype": "text/x-python",
   "name": "python",
   "nbconvert_exporter": "python",
   "pygments_lexer": "ipython3",
   "version": "3.8.5"
  }
 },
 "nbformat": 4,
 "nbformat_minor": 5
}
