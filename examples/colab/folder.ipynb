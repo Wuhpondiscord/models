{
 "cells": [
  {
   "cell_type": "markdown",
   "metadata": {},
   "source": [
    "# YOLO Inference on a Folder of Images\n",
    "\n",
    "This notebook demonstrates performing object detection on a folder of images using a trained YOLO model."
  ]
  },
  {
   "cell_type": "code",
   "execution_count": null,
   "metadata": {},
   "outputs": [],
   "source": [
    "# Install necessary packages\n",
    "!pip install torch torchvision torchaudio --extra-index-url https://download.pytorch.org/whl/cpu\n",
    "!pip install matplotlib pillow"
  ]
  },
  {
   "cell_type": "code",
   "execution_count": null,
   "metadata": {},
   "outputs": [],
   "source": [
    "import torch\n",
    "from PIL import Image\n",
    "import os"
  ]
  },
  {
   "cell_type": "markdown",
   "metadata": {},
   "source": [
    "## Select YOLO Architecture"
  ]
  },
  {
   "cell_type": "code",
   "execution_count": null,
   "metadata": {},
   "outputs": [],
   "source": [
    "# User Input for Architecture Selection\n",
    "print(\"Select YOLO architecture:\")\n",
    "print(\"1: YOLOv8\")\n",
    "print(\"2: YOLOv9\")\n",
    "print(\"3: YOLOv11\")\n",
    "print(\"4: YOLO-World\")\n",
    "\n",
    "architecture_choice = input(\"Enter the number corresponding to your architecture: \")\n",
    "\n",
    "# Map user input to architecture\n",
    "if architecture_choice == \"1\":\n",
    "    architecture = \"ultralytics/yolov8\"\n",
    "elif architecture_choice == \"2\":\n",
    "    architecture = \"ultralytics/yolov9\"\n",
    "elif architecture_choice == \"3\":\n",
    "    architecture = \"ultralytics/yolo11\"\n",
    "elif architecture_choice == \"4\":\n",
    "    architecture = \"ultralytics/yolo-world\"\n",
    "else:\n",
    "    raise ValueError(\"Invalid architecture choice. Please select a number between 1 and 4.\")"
  ]
  },
  {
   "cell_type": "markdown",
   "metadata": {},
   "source": [
    "## Load the YOLO Model"
  ]
  },
  {
   "cell_type": "code",
   "execution_count": null,
   "metadata": {},
   "outputs": [],
   "source": [
    "# Replace the placeholder with the actual model URL\n",
    "MODEL_URL = \"{{MODEL_URL}}\"\n",
    "\n",
    "# Load the model\n",
    "model = torch.hub.load(architecture, 'custom', path_or_model=MODEL_URL)\n",
    "model.eval()"
  ]
  },
  {
   "cell_type": "markdown",
   "metadata": {},
   "source": [
    "## Upload Images to Folder"
  ]
  },
  {
   "cell_type": "code",
   "execution_count": null,
   "metadata": {},
   "outputs": [],
   "source": [
    "# Create 'images' and 'output' directories\n",
    "import os\n",
    "from google.colab import files\n",
    "\n",
    "image_folder = \"./images\"\n",
    "output_folder = \"./output\"\n",
    "os.makedirs(image_folder, exist_ok=True)\n",
    "os.makedirs(output_folder, exist_ok=True)\n",
    "\n",
    "# Upload images\n",
    "print(\"Please upload images to the 'images' folder.\")\n",
    "uploaded = files.upload()\n",
    "for filename in uploaded.keys():\n",
    "    if filename.lower().endswith(('.png', '.jpg', '.jpeg')):\n",
    "        os.rename(filename, os.path.join(image_folder, filename))\n",
    "        print(f\"Uploaded {filename}\")\n",
    "    else:\n",
    "        print(f\"Skipped {filename}: Unsupported file type.\")"
  ]
  },
  {
   "cell_type": "markdown",
   "metadata": {},
   "source": [
    "## Perform Detection on Folder of Images"
  ]
  },
  {
   "cell_type": "code",
   "execution_count": null,
   "metadata": {},
   "outputs": [],
   "source": [
    "# Define supported image extensions\n",
    "supported_extensions = ('.png', '.jpg', '.jpeg')\n",
    "\n",
    "# Process each image in the folder\n",
    "for image_file in os.listdir(image_folder):\n",
    "    if image_file.lower().endswith(supported_extensions):\n",
    "        img_path = os.path.join(image_folder, image_file)\n",
    "        img = Image.open(img_path)\n",
    "\n",
    "        # Perform inference\n",
    "        results = model(img)\n",
    "\n",
    "        # Save results\n",
    "        results.save(save_dir=output_folder)\n",
    "        print(f\"Processed {image_file}\")\n",
    "    else:\n",
    "        print(f\"Skipped {image_file}: Unsupported file type.\")\n",
    "\n",
    "print(f\"All images processed. Results saved in '{output_folder}' directory.\")"
  ]
  },
  {
   "cell_type": "markdown",
   "metadata": {},
   "source": [
    "## Visualize Results"
  ]
  },
  {
   "cell_type": "code",
   "execution_count": null,
   "metadata": {},
   "outputs": [],
   "source": [
    "# List processed images\n",
    "processed_images = os.listdir(output_folder)\n",
    "print(f\"Processed {len(processed_images)} images:\")\n",
    "for img in processed_images:\n",
    "    print(img)\n",
    "\n",
    "# Display sample results\n",
    "from IPython.display import Image as IPyImage, display\n",
    "\n",
    "sample_images = processed_images[:5]  # Display first 5 images\n",
    "for img_file in sample_images:\n",
    "    img_path = os.path.join(output_folder, img_file)\n",
    "    print(f\"Displaying {img_file}\")\n",
    "    display(IPyImage(filename=img_path))"
  ]
  }
 ],
 "metadata": {
  "kernelspec": {
   "display_name": "Python 3",
   "language": "python",
   "name": "python3"
  },
  "language_info": {
   "codemirror_mode": {
    "name": "ipython",
    "version": 3
   },
   "file_extension": ".py",
   "mimetype": "text/x-python",
   "name": "python",
   "nbconvert_exporter": "python",
   "pygments_lexer": "ipython3",
   "version": "3.8.5"
  }
 },
 "nbformat": 4,
 "nbformat_minor": 5
}
