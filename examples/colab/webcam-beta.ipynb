{
 "cells": [
  {
   "cell_type": "markdown",
   "metadata": {},
   "source": [
    "# YOLO Inference on Webcam Feed\n",
    "\n",
    "This notebook demonstrates performing object detection on a webcam feed using a trained YOLO model via a Streamlit web app. It utilizes the `colab_everything` library to expose the Streamlit app to a public URL."
  ]
  },
  {
   "cell_type": "code",
   "execution_count": null,
   "metadata": {},
   "outputs": [],
   "source": [
    "# Install necessary packages\n",
    "!pip install torch torchvision torchaudio --extra-index-url https://download.pytorch.org/whl/cpu\n",
    "!pip install matplotlib pillow opencv-python streamlit colab_everything"
  ]
  },
  {
   "cell_type": "code",
   "execution_count": null,
   "metadata": {},
   "outputs": [],
   "source": [
    "import torch\n",
    "from PIL import Image\n",
    "import cv2\n",
    "import streamlit as st\n",
    "from colab_everything import ColabStreamlit\n",
    "import os"
  ]
  },
  {
   "cell_type": "markdown",
   "metadata": {},
   "source": [
    "## Create Streamlit App (`app.py`)"
  ]
  },
  {
   "cell_type": "code",
   "execution_count": null,
   "metadata": {},
   "outputs": [],
   "source": [
    "# Write the Streamlit app code to 'app.py'\n",
    "app_code = \"\"\"\n",
    "import streamlit as st\n",
    "import cv2\n",
    "import torch\n",
    "from PIL import Image\n",
    "import numpy as np\n",
    "\n",
    "# ----------------------------\n",
    "# Load the YOLO Model\n",
    "# ----------------------------\n",
    "\n",
    "# Placeholder for the model URL\n",
    "MODEL_URL = \"{{MODEL_URL}}\"\n",
    "\n",
    "# Select YOLO architecture\n",
    "st.sidebar.title(\"YOLO Architecture Selection\")\n",
    "architecture_choice = st.sidebar.selectbox(\n",
    "    \"Select YOLO architecture:\",\n",
    "    (\"YOLOv8\", \"YOLOv9\", \"YOLOv11\", \"YOLO-World\")\n",
    ")\n",
    "\n",
    "architecture_map = {\n",
    "    \"YOLOv8\": \"ultralytics/yolov8\",\n",
    "    \"YOLOv9\": \"ultralytics/yolov9\",\n",
    "    \"YOLOv11\": \"ultralytics/yolo11\",\n",
    "    \"YOLO-World\": \"ultralytics/yolo-world\"\n",
    "}\n",
    "\n",
    "architecture = architecture_map.get(architecture_choice)\n",
    "\n",
    "# Load the model\n",
    "@st.cache(allow_output_mutation=True)\n",
    "def load_model():\n",
    "    model = torch.hub.load(architecture, 'custom', path_or_model=MODEL_URL)\n",
    "    model.eval()\n",
    "    return model\n",
    "\n",
    "model = load_model()\n",
    "\n",
    "# ----------------------------\n",
    "# Streamlit App Interface\n",
    "# ----------------------------\n",
    "\n",
    "st.title(\"YOLO Webcam Detection\")\n",
    "\n",
    "run = st.checkbox('Run Detection')\n",
    "\n",
    "FRAME_WINDOW = st.image([])\n",
    "camera = cv2.VideoCapture(0)\n",
    "\n",
    "while run:\n",
    "    ret, frame = camera.read()\n",
    "    if not ret:\n",
    "        st.write(\"Failed to grab frame\")\n",
    "        break\n",
    "\n",
    "    # Convert frame to PIL Image\n",
    "    img = Image.fromarray(cv2.cvtColor(frame, cv2.COLOR_BGR2RGB))\n",
    "\n",
    "    # Perform inference\n",
    "    results = model(img)\n",
    "\n",
    "    # Render results on the frame\n",
    "    results.render()\n",
    "    detected_frame = results.imgs[0]\n",
    "    detected_frame = cv2.cvtColor(detected_frame, cv2.COLOR_RGB2BGR)\n",
    "\n",
    "    # Display the frame\n",
    "    FRAME_WINDOW.image(detected_frame)\n",
    "\n",
    "else:\n",
    "    st.write('Stopped')\n",
    "\"\"\"\n",
    "\n",
    "# Replace the MODEL_URL placeholder with the actual model URL\n",
    "model_url = \"{{MODEL_URL}}\"  # Replace with your model URL or path\n",
    "app_code = app_code.replace(\"{{MODEL_URL}}\", model_url)\n",
    "\n",
    "# Write the app code to 'app.py'\n",
    "with open('app.py', 'w') as f:\n",
    "    f.write(app_code)\n",
    "\n",
    "print(\"Streamlit app 'app.py' created.\")"
  },
  {
   "cell_type": "markdown",
   "metadata": {},
   "source": [
    "## Run the Streamlit App with `colab_everything`"
  ]
  },
  {
   "cell_type": "code",
   "execution_count": null,
   "metadata": {},
   "outputs": [],
   "source": [
    "# Initialize and run the Streamlit app using ColabStreamlit\n",
    "ColabStreamlit('app.py')"
  ]
  }
 ],
 "metadata": {
  "kernelspec": {
   "display_name": "Python 3",
   "language": "python",
   "name": "python3"
  },
  "language_info": {
   "codemirror_mode": {
    "name": "ipython",
    "version": 3
   },
   "file_extension": ".py",
   "mimetype": "text/x-python",
   "name": "python",
   "nbconvert_exporter": "python",
   "pygments_lexer": "ipython3",
   "version": "3.8.5"
  }
 },
 "nbformat": 4,
 "nbformat_minor": 5
}
