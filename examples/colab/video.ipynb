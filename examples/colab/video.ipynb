{
 "cells": [
  {
   "cell_type": "markdown",
   "metadata": {},
   "source": [
    "# Video File Upload Streamlit App\n",
    "\n",
    "This notebook runs the **Video File Upload Streamlit Application**."
  ]
  },
  {
   "cell_type": "code",
   "execution_count": null,
   "metadata": {},
   "outputs": [],
   "source": [
    "# Install necessary packages\n",
    "!pip install streamlit-colab\n",
    "!pip install ultralytics gtts pillow opencv-python yt-dlp streamlink"
  ]
  },
  {
   "cell_type": "code",
   "execution_count": null,
   "metadata": {},
   "outputs": [],
   "source": [
    "# Download the Video File Upload Streamlit script from GitHub\n",
    "!wget https://raw.githubusercontent.com/Wuhpondiscord/models/main/examples/python/video.py -O video.py"
  ]
  },
  {
   "cell_type": "markdown",
   "metadata": {},
   "source": [
    "## Insert Your Ngrok Token"
  ]
  },
  {
   "cell_type": "code",
   "execution_count": null,
   "metadata": {},
   "outputs": [],
   "source": [
    "# Replace 'YOUR_NGROK_TOKEN_HERE' with your actual Ngrok token\n",
    "ngrok_token = \"YOUR_NGROK_TOKEN_HERE\""
  ]
  },
  {
   "cell_type": "markdown",
   "metadata": {},
   "source": [
    "## Run the Streamlit App with Ngrok Tunneling"
  ]
  },
  {
   "cell_type": "code",
   "execution_count": null,
   "metadata": {},
   "outputs": [],
   "source": [
    "# Run the Streamlit app using streamlit-colab\n",
    "!stc video.py {ngrok_token}"
  ]
  }
 ],
 "metadata": {
  "kernelspec": {
   "display_name": "Python 3",
   "language": "python",
   "name": "python3"
  },
  "language_info": {
   "codemirror_mode": {
    "name": "ipython",
    "version": 3
   },
   "file_extension": ".py",
   "mimetype": "text/x-python",
   "name": "python",
   "nbconvert_exporter": "python",
   "pygments_lexer": "ipython3",
   "version": "3.8.5"
  }
 },
 "nbformat": 4,
 "nbformat_minor": 5
}
